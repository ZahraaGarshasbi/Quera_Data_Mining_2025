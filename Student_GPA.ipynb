{
 "cells": [
  {
   "cell_type": "code",
   "execution_count": 1,
   "id": "338777a4",
   "metadata": {},
   "outputs": [],
   "source": [
    "from google.colab import drive\n",
    "drive.mount('/content/drive')\n",
    "\n",
    "\n",
    "import pandas as pd\n",
    "import numpy as np\n",
    "from sklearn.model_selection import train_test_split, GridSearchCV\n",
    "from sklearn.ensemble import RandomForestRegressor\n",
    "from sklearn.metrics import r2_score\n",
    "from sklearn.preprocessing import OneHotEncoder, StandardScaler\n",
    "from sklearn.compose import ColumnTransformer\n",
    "from sklearn.pipeline import Pipeline\n",
    "from sklearn.impute import SimpleImputer"
   ]
  },
  {
   "cell_type": "code",
   "execution_count": 2,
   "id": "c44e9131",
   "metadata": {},
   "outputs": [],
   "source": [
    "from google.colab import drive\n",
    "drive.mount('/content/drive')\n",
    "\n",
    "\n",
    "import pandas as pd\n",
    "import numpy as np\n",
    "from sklearn.model_selection import train_test_split, GridSearchCV\n",
    "from sklearn.ensemble import RandomForestRegressor\n",
    "from sklearn.metrics import r2_score\n",
    "from sklearn.preprocessing import OneHotEncoder, StandardScaler\n",
    "from sklearn.compose import ColumnTransformer\n",
    "from sklearn.pipeline import Pipeline\n",
    "from sklearn.impute import SimpleImputer"
   ]
  },
  {
   "cell_type": "code",
   "execution_count": 3,
   "id": "b9293e90",
   "metadata": {},
   "outputs": [],
   "source": [
    "# Cell 3: پیش‌پردازش و مهندسی ویژگی\n",
    "# حذف ستون StudentID (بی‌فایده برای پیش‌بینی)\n",
    "train = train.drop(columns=['StudentID'])\n",
    "test = test.drop(columns=['StudentID'])"
   ]
  },
  {
   "cell_type": "code",
   "execution_count": 4,
   "id": "77dc444d",
   "metadata": {},
   "outputs": [],
   "source": [
    "# Cell 3: پیش‌پردازش و مهندسی ویژگی\n",
    "# حذف ستون StudentID (بی‌فایده برای پیش‌بینی)\n",
    "train = train.drop(columns=['StudentID'])\n",
    "test = test.drop(columns=['StudentID'])"
   ]
  },
  {
   "cell_type": "code",
   "execution_count": 5,
   "id": "cd364526",
   "metadata": {},
   "outputs": [],
   "source": [
    "# Cell 2: خواندن مجموعه داده‌ها\n",
    "train = pd.read_csv('/content/drive/MyDrive/Quera_Data_Mining_2025/Student/data/train.csv')  # داده‌های آموزشی\n",
    "test = pd.read_csv('/content/drive/MyDrive/Quera_Data_Mining_2025/Student/data/test.csv')    # داده‌های آزمون"
   ]
  },
  {
   "cell_type": "code",
   "execution_count": 6,
   "id": "f78f694c",
   "metadata": {},
   "outputs": [],
   "source": [
    "# Cell 3: پیش‌پردازش و مهندسی ویژگی\n",
    "# حذف ستون StudentID (بی‌فایده برای پیش‌بینی)\n",
    "train = train.drop(columns=['StudentID'])\n",
    "test = test.drop(columns=['StudentID'])"
   ]
  },
  {
   "cell_type": "code",
   "execution_count": 7,
   "id": "d9271fbd",
   "metadata": {},
   "outputs": [],
   "source": [
    "# مهندسی ویژگی\n",
    "# ویژگی 1: مجموع فعالیت‌های فوق‌برنامه\n",
    "train['Total_Activities'] = train['Extracurricular'] + train['Sports'] + train['Music'] + train['Volunteering']\n",
    "test['Total_Activities'] = test['Extracurricular'] + test['Sports'] + test['Music'] + test['Volunteering']\n",
    "\n",
    "# ویژگی 2: نسبت زمان مطالعه به غیبت (برای جلوگیری از تقسیم بر صفر)\n",
    "train['Study_Absence_Ratio'] = train['StudyTimeWeekly'] / (train['Absences'] + 1)\n",
    "test['Study_Absence_Ratio'] = test['StudyTimeWeekly'] / (test['Absences'] + 1)\n",
    "\n",
    "# ویژگی 3: تعامل بین StudyTimeWeekly و Tutoring\n",
    "train['Study_Tutoring_Interaction'] = train['StudyTimeWeekly'] * train['Tutoring']\n",
    "test['Study_Tutoring_Interaction'] = test['StudyTimeWeekly'] * test['Tutoring']\n",
    "\n",
    "# شناسایی ویژگی‌ها و هدف\n",
    "target = 'GPA'\n",
    "X = train.drop(columns=[target])\n",
    "y = train[target]\n",
    "\n",
    "# شناسایی ستون‌های عددی و کته‌گوریکال\n",
    "numerical_cols = X.select_dtypes(include=['int64', 'float64']).columns\n",
    "categorical_cols = X.select_dtypes(include=['object']).columns\n",
    "\n",
    "# پیش‌پردازش: مدیریت NaN و انکودینگ\n",
    "preprocessor = ColumnTransformer(\n",
    "    transformers=[\n",
    "        ('num', Pipeline(steps=[\n",
    "            ('imputer', SimpleImputer(strategy='median')),  # پر کردن NaN با میانه\n",
    "            ('scaler', StandardScaler())  # مقیاس‌بندی\n",
    "        ]), numerical_cols),\n",
    "        ('cat', Pipeline(steps=[\n",
    "            ('imputer', SimpleImputer(strategy='constant', fill_value='missing')),  # پر کردن NaN با 'missing'\n",
    "            ('onehot', OneHotEncoder(handle_unknown='ignore', drop='first'))  # انکودینگ کته‌گوریکال\n",
    "        ]), categorical_cols)\n",
    "    ]\n",
    ")"
   ]
  },
  {
   "cell_type": "code",
   "execution_count": 8,
   "id": "fe72ad89",
   "metadata": {},
   "outputs": [],
   "source": [
    "# Cell 4: طراحی مدل\n",
    "# تعریف مدل RandomForest با GridSearch برای بهینه‌سازی\n",
    "rf = RandomForestRegressor(random_state=42)\n",
    "param_grid = {\n",
    "    'n_estimators': [100, 200, 300],\n",
    "    'max_depth': [None, 10, 20, 30],\n",
    "    'min_samples_split': [2, 5, 10],\n",
    "    'min_samples_leaf': [1, 2, 4]\n",
    "}\n",
    "grid_search = GridSearchCV(estimator=rf, param_grid=param_grid, cv=5, n_jobs=-1, scoring='r2')\n",
    "\n",
    "# ایجاد Pipeline\n",
    "model = Pipeline(steps=[\n",
    "    ('preprocessor', preprocessor),\n",
    "    ('regressor', grid_search)\n",
    "])\n",
    "\n",
    "# تقسیم داده‌ها برای اعتبارسنجی\n",
    "X_train, X_val, y_train, y_val = train_test_split(X, y, test_size=0.2, random_state=42)\n",
    "\n",
    "# آموزش مدل\n",
    "model.fit(X_train, y_train)"
   ]
  },
  {
   "cell_type": "code",
   "execution_count": 9,
   "id": "b2dbc22c",
   "metadata": {},
   "outputs": [],
   "source": [
    "# Cell 5: ارزیابی مدل\n",
    "y_pred_val = model.predict(X_val)\n",
    "r2 = r2_score(y_val, y_pred_val)\n",
    "print(f'R2 Score on validation: {r2}')\n",
    "print(f'Best parameters: {model.named_steps[\"regressor\"].best_params_}')\n",
    "\n",
    "# Cell 6: پیش‌بینی روی داده‌های آزمون و ساخت submission\n",
    "predictions = model.predict(test)\n",
    "submission = pd.DataFrame({'GPA': predictions})\n",
    "submission.to_csv('submission.csv', index=False)"
   ]
  }
 ],
 "metadata": {},
 "nbformat": 4,
 "nbformat_minor": 5
}
