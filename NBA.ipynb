{
 "cells": [
  {
   "cell_type": "code",
   "execution_count": 1,
   "id": "e396b5da",
   "metadata": {},
   "outputs": [],
   "source": [
    "from google.colab import drive\n",
    "drive.mount('/content/drive')\n",
    "\n",
    "\n",
    "import pandas as pd\n",
    "import zipfile\n",
    "import os\n",
    "\n",
    "df = pd.read_csv('NBA2000-2009.csv')\n",
    "df.head()"
   ]
  },
  {
   "cell_type": "code",
   "execution_count": 2,
   "id": "96222cc8",
   "metadata": {},
   "outputs": [],
   "source": [
    "from google.colab import drive\n",
    "drive.mount('/content/drive')\n",
    "\n",
    "\n",
    "import pandas as pd\n",
    "import zipfile\n",
    "import os\n",
    "\n",
    "df = pd.read_csv('NBA2000-2009.csv')\n",
    "df.head()"
   ]
  },
  {
   "cell_type": "code",
   "execution_count": 3,
   "id": "1d042a2b",
   "metadata": {},
   "outputs": [],
   "source": [
    "from google.colab import drive\n",
    "drive.mount('/content/drive')\n",
    "\n",
    "\n",
    "import pandas as pd\n",
    "import zipfile\n",
    "import os\n",
    "\n",
    "df = pd.read_csv('/content/drive/MyDrive/Quera_Data_Mining_2025/NBA/Data/NBA2000-2009.csv')\n",
    "df.head()"
   ]
  },
  {
   "cell_type": "code",
   "execution_count": 4,
   "id": "443748f4",
   "metadata": {},
   "outputs": [],
   "source": [
    "df['REB'] = df['OREB'] + df['DREB']\n",
    "\n",
    "# تعریف ۵ ملاک اصلی\n",
    "metrics = ['PTS', 'AST', 'REB', 'STL', 'BLK']\n",
    "\n",
    "# شمارش تعداد ملاک‌های دارای مقدار >=10\n",
    "df['double_count'] = df[metrics].ge(10).sum(axis=1)\n",
    "\n",
    "# انتخاب بازیکنان با حداقل ۲ ملاک دو رقمی\n",
    "double_double = df[df['double_count'] >= 2][['PLAYER', 'YEAR', 'PTS', 'AST', 'REB', 'STL', 'BLK']]\n",
    "\n",
    "# مرتب‌سازی بر اساس سال و نام بازیکن\n",
    "double_double = double_double.sort_values(by=['YEAR', 'PLAYER']).reset_index(drop=True)\n",
    "\n",
    "# نمایش نمونه خروجی\n",
    "display(double_double.head())"
   ]
  },
  {
   "cell_type": "code",
   "execution_count": 5,
   "id": "e9ff055b",
   "metadata": {},
   "outputs": [],
   "source": [
    "# محاسبه پرتاب‌های ناموفق (۲ امتیازی + ۳ امتیازی)\n",
    "df['Missed_FG'] = (df['FGA'] - df['FGM']) + (df['3PA'] - df['3PM'])\n",
    "\n",
    "# محاسبه پرتاب‌های آزاد ناموفق\n",
    "df['Missed_FT'] = df['FTA'] - df['FTM']\n",
    "\n",
    "# محاسبه ارزش بازیکن در هر فصل\n",
    "df['Value'] = (\n",
    "    (df['PTS'] + df['OREB'] + df['DREB'] + df['AST'] + df['STL'] + df['BLK'])\n",
    "    - (df['TOV'] + df['Missed_FG'] + df['Missed_FT'])\n",
    ")\n",
    "\n",
    "# میانگین ارزش بازیکنان در کل فصل‌ها\n",
    "best_player = (\n",
    "    df.groupby('PLAYER')['Value']\n",
    "    .mean()\n",
    "    .round(2)\n",
    "    .reset_index()\n",
    "    .sort_values(by=['Value', 'PLAYER'], ascending=[False, True])\n",
    "    .reset_index(drop=True)\n",
    ")\n",
    "\n",
    "# تغییر نام ستون‌ها\n",
    "best_player.columns = ['PLAYER', 'VALUE']\n",
    "\n",
    "# نمایش دو سطر اول\n",
    "display(best_player.head())"
   ]
  },
  {
   "cell_type": "code",
   "execution_count": 6,
   "id": "69bfef4f",
   "metadata": {},
   "outputs": [],
   "source": [
    "# محاسبه مجموع امتیاز تیم‌ها در هر سال\n",
    "team_pts = df.groupby(['YEAR', 'TEAM'])['PTS'].sum().reset_index()\n",
    "\n",
    "# انتخاب تیم با بیشترین امتیاز در هر سال\n",
    "max_PTS_of_year = team_pts.loc[team_pts.groupby('YEAR')['PTS'].idxmax()]\n",
    "max_PTS_of_year['PTS'] = max_PTS_of_year['PTS'].round(2)\n",
    "\n",
    "# مرتب‌سازی بر اساس سال\n",
    "max_PTS_of_year = max_PTS_of_year.sort_values(by='YEAR').reset_index(drop=True)\n",
    "\n",
    "# نمایش خروجی نهایی\n",
    "display(max_PTS_of_year.head())"
   ]
  }
 ],
 "metadata": {},
 "nbformat": 4,
 "nbformat_minor": 5
}
